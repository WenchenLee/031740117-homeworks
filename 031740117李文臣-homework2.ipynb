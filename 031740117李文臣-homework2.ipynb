{
 "cells": [
  {
   "cell_type": "markdown",
   "metadata": {},
   "source": [
    "## 作业2：ADAMS和RK4数值积分的实现\n",
    "仿照run_euler函数的实现，在modsim中实现Adams和四阶Runge-Kutta法，并使用炮弹发射仿真比较Euler、Adams和RK4三种数值积分的精度。实现run_adams和run_rk4函数。"
   ]
  },
  {
   "cell_type": "code",
   "execution_count": 65,
   "metadata": {},
   "outputs": [],
   "source": [
    "# Configure Jupyter so figures appear in the notebook\n",
    "%matplotlib inline\n",
    "\n",
    "# Configure Jupyter to display the assigned value after an assignment\n",
    "%config InteractiveShell.ast_node_interactivity='last_expr_or_assign'\n",
    "\n",
    "# import functions from the modsim.py module\n",
    "from modsim import *"
   ]
  },
  {
   "cell_type": "code",
   "execution_count": 66,
   "metadata": {},
   "outputs": [],
   "source": [
    "def run_euler(system, slope_func, **options):\n",
    "    \"\"\"Computes a numerical solution to a differential equation.\n",
    "\n",
    "    `system` must contain `init` with initial conditions,\n",
    "    `t_end` with the end time, and `dt` with the time step.\n",
    "\n",
    "    `system` may contain `t_0` to override the default, 0\n",
    "\n",
    "    It can contain any other parameters required by the slope function.\n",
    "\n",
    "    `options` can be ...\n",
    "\n",
    "    system: System object\n",
    "    slope_func: function that computes slopes\n",
    "\n",
    "    returns: TimeFrame\n",
    "    \"\"\"\n",
    "    # the default message if nothing changes\n",
    "    msg = \"The solver successfully reached the end of the integration interval.\"\n",
    "\n",
    "    # get parameters from system\n",
    "    init, t_0, t_end, dt = check_system(system, slope_func)\n",
    "\n",
    "    # make the TimeFrame\n",
    "    frame = TimeFrame(columns=init.index)\n",
    "    frame.row[t_0] = init\n",
    "    ts = linrange(t_0, t_end, dt) * get_units(t_end)\n",
    "\n",
    "    # run the solver\n",
    "    for t1 in ts:\n",
    "        y1 = frame.row[t1]\n",
    "        slopes = slope_func(y1, t1, system)\n",
    "        y2 = [y + slope * dt for y, slope in zip(y1, slopes)]\n",
    "        t2 = t1 + dt\n",
    "        frame.row[t2] = y2\n",
    "\n",
    "    details = ModSimSeries(dict(message=\"Success\"))\n",
    "    return frame, details"
   ]
  },
  {
   "cell_type": "code",
   "execution_count": 67,
   "metadata": {},
   "outputs": [],
   "source": [
    "\n",
    "def run_adams(system,slope_func, **options):\n",
    "    \"\"\"Computes a numerical solution to a differential equation.\n",
    "\n",
    "    `system` must contain `init` with initial conditions,\n",
    "    `t_end` with the end time, and `dt` with the time step, `t_0` with the default, 0 or others\n",
    "\n",
    "    It can contain any other parameters required by the slope function.\n",
    "\n",
    "    `options` can be ...\n",
    "\n",
    "    system: System object\n",
    "    slope_func: function that computes slopes\n",
    "\n",
    "    returns: TimeFrame\n",
    "    \"\"\"\n",
    "    #the default message if nothing changes\n",
    "    msg=\"The solver successfully reached the end of the integration interval.\"\n",
    "    \n",
    "    #get parameters from system\n",
    "    init=system.init\n",
    "    t_0=system.t_0\n",
    "    t_end=system.t_end\n",
    "    system.t_end=dt*4\n",
    "    \n",
    "    #make the TimeFrame\n",
    "    frame,details=run_euler(system,slope_func)\n",
    "    ts=linrange(t_0+dt*3,t_end,dt)*get_units(t_end)\n",
    "    system.t_end=t_end\n",
    "\n",
    "    #run the solver\n",
    "    for t1 in ts:\n",
    "        y1=frame.row[round(t1,2)]\n",
    "        slopes=slope_func(y1,round(t1,2),system)\n",
    "        y2=[y+55/24*slope*dt for y,slope in zip(y1,slopes)]\n",
    "        \n",
    "        y1=frame.row[round(t1-dt,2)]\n",
    "        slopes=slope_func(y1,round(t1-dt,2),system)\n",
    "        y2=[y-59/24*slope*dt for y,slope in zip(y2,slopes)]\n",
    "        \n",
    "        y1=frame.row[round(t1-dt*2,2)]\n",
    "        slopes=slope_func(y1,round(t1-dt*2,2),system)\n",
    "        y2=[y+37/24*slope*dt for y,slope in zip(y2,slopes)]\n",
    "        \n",
    "        y1=frame.row[round(t1-dt*3,2)]\n",
    "        slopes=slope_func(y1,round(t1-dt*3,2),system)\n",
    "        y2=[y-9/24*slope*dt for y,slope in zip(y2,slopes)]\n",
    "        \n",
    "        t2=round(t1+dt,2)\n",
    "        frame.row[t2]=y2\n",
    "                \n",
    "    details = ModSimSeries(dict(message=\"Success\"))\n",
    "    return frame, details"
   ]
  },
  {
   "cell_type": "code",
   "execution_count": 68,
   "metadata": {},
   "outputs": [
    {
     "data": {
      "text/plain": [
       "[<matplotlib.lines.Line2D at 0x2998e74cf28>]"
      ]
     },
     "execution_count": 68,
     "metadata": {},
     "output_type": "execute_result"
    },
    {
     "data": {
      "image/png": "[encoded data removed]",
      "text/plain": [
       "<Figure size 432x288 with 1 Axes>"
      ]
     },
     "metadata": {
      "needs_background": "light"
     },
     "output_type": "display_data"
    }
   ],
   "source": [
    "m = UNITS.meter\n",
    "s = UNITS.second\n",
    "\n",
    "g = 9.8 * m/s**2\n",
    "\n",
    "init_z = State(y=100.0 * m, v=0.0 * m/s)\n",
    "init_x = State(y=0.0 * m, v=500.0 * m/s)\n",
    "\n",
    "\n",
    "t_end = 6 * s\n",
    "dt = 1 * s\n",
    "\n",
    "system_z = System(init=init_z,t_0=t_0,t_end=t_end, dt=dt, g=g)\n",
    "system_x = System(init=init_x,t_0=t_0,t_end=t_end, dt=dt)\n",
    "\n",
    "def slope_func_z(state, t, system):\n",
    "    y, v = state\n",
    "    \n",
    "    dydt = v\n",
    "    dvdt = -system.g\n",
    "    \n",
    "    return dydt, dvdt\n",
    "\n",
    "def slope_func_x(state, t, system):\n",
    "    y, v = state\n",
    "    \n",
    "    dydt = v\n",
    "    dvdt = 0.0 * m/s**2\n",
    "    \n",
    "    return dydt, dvdt\n",
    "\n",
    "Vz, Az = slope_func_z(system_z.init, 0, system_z)\n",
    "Vx, Ax = slope_func_x(system_x.init, 0, system_x)\n",
    "\n",
    "results_z,details_z = run_adams(system_z, slope_func_z)\n",
    "results_x,details_x = run_adams(system_x, slope_func_x)\n",
    "\n",
    "plot(results_z.y)\n",
    "decorate(xlabel='Time(s)',\n",
    "         ylabel='Height(m)')\n",
    "\n",
    "x=[0,1,2,3,4,5,6]\n",
    "y=[0,0,0,0,0,0,0]\n",
    "plot(x,y)"
   ]
  },
  {
   "cell_type": "code",
   "execution_count": 69,
   "metadata": {},
   "outputs": [
    {
     "data": {
      "image/png": "[encoded data removed]",
      "text/plain": [
       "<Figure size 432x288 with 1 Axes>"
      ]
     },
     "metadata": {
      "needs_background": "light"
     },
     "output_type": "display_data"
    }
   ],
   "source": [
    "plot(results_x.y)\n",
    "decorate(xlabel='Time(s)',\n",
    "         ylabel='Distance(m)')"
   ]
  },
  {
   "cell_type": "code",
   "execution_count": 70,
   "metadata": {},
   "outputs": [],
   "source": [
    "def run_rk4(system,slope_func, **options):\n",
    "    \"\"\"Computes a numerical solution to a differential equation.\n",
    "\n",
    "    `system` must contain `init` with initial conditions,\n",
    "    `t_end` with the end time, and `dt` with the time step, `t_0` with the default, 0 or others\n",
    "\n",
    "    It can contain any other parameters required by the slope function.\n",
    "\n",
    "    `options` can be ...\n",
    "\n",
    "    system: System object\n",
    "    slope_func: function that computes slopes\n",
    "\n",
    "    returns: TimeFrame\n",
    "    \"\"\"    \n",
    "    #the default message if nothing changes\n",
    "    msg=\"The solver successfully reached the end of the integration interval.\"\n",
    "    \n",
    "    #get parameters from system\n",
    "    init=system.init\n",
    "    t_0=system.t_0\n",
    "    t_end=system.t_end\n",
    "    system.t_end=dt*4\n",
    "    \n",
    "    #make the TimeFrame\n",
    "    frame,details=run_euler(system,slope_func)\n",
    "    ts=linrange(t_0+dt*3,t_end,dt)*get_units(t_end)\n",
    "    system.t_end=t_end\n",
    "\n",
    "    #run the solver\n",
    "    for t1 in ts:\n",
    "        y1=frame.row[round(t1,2)]\n",
    "        slopes=slope_func(y1,round(t1,2),system)\n",
    "        y_0=[y+1/6*slope*dt for y,slope in zip(y1,slopes)]\n",
    "        \n",
    "        y2=[y+1/6*slope*dt/2 for y,slope in zip(y1,slopes)]\n",
    "        slopes=slope_func(y2,round(t1+dt/2,2),system)\n",
    "        y_0=[y+2/6*slope*dt for y,slope in zip(y_0,slopes)]\n",
    "        \n",
    "        y3=[y+2/6*slope*dt/2 for y,slope in zip(y1,slopes)]\n",
    "        slopes=slope_func(y3,round(t1+dt/2,2),system)\n",
    "        y_0=[y+2/6*slope*dt for y,slope in zip(y_0,slopes)]\n",
    "        \n",
    "        y4=[y+2/6*slope*dt for y,slope in zip(y1,slopes)]\n",
    "        slopes=slope_func(y4,round(t1+dt,2),system)\n",
    "        y_0=[y+1/6*slope*dt for y,slope in zip(y_0,slopes)]\n",
    "        \n",
    "        t2=round(t1+dt,2)\n",
    "        frame.row[t2]=y_0\n",
    "\n",
    "    details = ModSimSeries(dict(message=\"Success\"))\n",
    "    return frame, details"
   ]
  },
  {
   "cell_type": "code",
   "execution_count": 71,
   "metadata": {},
   "outputs": [
    {
     "data": {
      "text/plain": [
       "[<matplotlib.lines.Line2D at 0x2998d17de80>]"
      ]
     },
     "execution_count": 71,
     "metadata": {},
     "output_type": "execute_result"
    },
    {
     "data": {
      "image/png": "[encoded data removed]",
      "text/plain": [
       "<Figure size 432x288 with 1 Axes>"
      ]
     },
     "metadata": {
      "needs_background": "light"
     },
     "output_type": "display_data"
    }
   ],
   "source": [
    "m = UNITS.meter\n",
    "s = UNITS.second\n",
    "\n",
    "g = 9.8 * m/s**2\n",
    "\n",
    "init_z = State(y=100.0 * m, v=0.0 * m/s)\n",
    "init_x = State(y=0.0 * m, v=500.0 * m/s)\n",
    "\n",
    "\n",
    "t_end = 6 * s\n",
    "dt = 1 * s\n",
    "\n",
    "system_z = System(init=init_z,t_0=t_0,t_end=t_end, dt=dt, g=g)\n",
    "system_x = System(init=init_x,t_0=t_0,t_end=t_end, dt=dt)\n",
    "\n",
    "def slope_func_z(state, t, system):\n",
    "    y, v = state\n",
    "    \n",
    "    dydt = v\n",
    "    dvdt = -system.g\n",
    "    \n",
    "    return dydt, dvdt\n",
    "\n",
    "def slope_func_x(state, t, system):\n",
    "    y, v = state\n",
    "    \n",
    "    dydt = v\n",
    "    dvdt = 0.0 * m/s**2\n",
    "    \n",
    "    return dydt, dvdt\n",
    "\n",
    "Vz, Az = slope_func_z(system_z.init, 0, system_z)\n",
    "Vx, Ax = slope_func_x(system_x.init, 0, system_x)\n",
    "\n",
    "results_z,details_z = run_rk4(system_z, slope_func_z)\n",
    "results_x,details_x = run_rk4(system_x, slope_func_x)\n",
    "\n",
    "plot(results_z.y)\n",
    "decorate(xlabel='Time(s)',\n",
    "         ylabel='Height(m)')\n",
    "\n",
    "x=[0,1,2,3,4,5,6]\n",
    "y=[0,0,0,0,0,0,0]\n",
    "plot(x,y)"
   ]
  },
  {
   "cell_type": "code",
   "execution_count": 72,
   "metadata": {},
   "outputs": [
    {
     "data": {
      "image/png": "[encoded data removed]",
      "text/plain": [
       "<Figure size 432x288 with 1 Axes>"
      ]
     },
     "metadata": {
      "needs_background": "light"
     },
     "output_type": "display_data"
    }
   ],
   "source": [
    "plot(results_x.y)\n",
    "decorate(xlabel='Time(s)',\n",
    "         ylabel='Distance(m)')"
   ]
  }
 ],
 "metadata": {
  "kernelspec": {
   "display_name": "Python 3",
   "language": "python",
   "name": "python3"
  },
  "language_info": {
   "codemirror_mode": {
    "name": "ipython",
    "version": 3
   },
   "file_extension": ".py",
   "mimetype": "text/x-python",
   "name": "python",
   "nbconvert_exporter": "python",
   "pygments_lexer": "ipython3",
   "version": "3.7.0"
  }
 },
 "nbformat": 4,
 "nbformat_minor": 4
}
